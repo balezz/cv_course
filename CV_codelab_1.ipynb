{
  "nbformat": 4,
  "nbformat_minor": 0,
  "metadata": {
    "colab": {
      "name": "CV_codelab_1.ipynb",
      "provenance": [],
      "authorship_tag": "ABX9TyNZYzmO6BYSvkKbM8SjKKT0",
      "include_colab_link": true
    },
    "kernelspec": {
      "name": "python3",
      "display_name": "Python 3"
    },
    "language_info": {
      "name": "python"
    }
  },
  "cells": [
    {
      "cell_type": "markdown",
      "metadata": {
        "id": "view-in-github",
        "colab_type": "text"
      },
      "source": [
        "<a href=\"https://colab.research.google.com/github/balezz/cv_course_fa_mag/blob/main/CV_codelab_1.ipynb\" target=\"_parent\"><img src=\"https://colab.research.google.com/assets/colab-badge.svg\" alt=\"Open In Colab\"/></a>"
      ]
    },
    {
      "cell_type": "markdown",
      "metadata": {
        "id": "KyjhfaPiCxkH"
      },
      "source": [
        "# Computer vision\n",
        "### CodeLab 1"
      ]
    },
    {
      "cell_type": "markdown",
      "metadata": {
        "id": "w0ktDNeNCxhI"
      },
      "source": [
        "Изображение в пространстве: основные \n",
        "статистики, пространственные и временные меры \n",
        "данных, ступенчато-граничная модель."
      ]
    },
    {
      "cell_type": "code",
      "metadata": {
        "id": "9z3QmEmWDSmZ"
      },
      "source": [
        ""
      ],
      "execution_count": null,
      "outputs": []
    },
    {
      "cell_type": "markdown",
      "metadata": {
        "id": "l45ArzizCxeS"
      },
      "source": [
        "Цветовые модели. Изменение цветового \n",
        "пространства.\n"
      ]
    },
    {
      "cell_type": "code",
      "metadata": {
        "id": "vxwTuXrxDSFi"
      },
      "source": [
        ""
      ],
      "execution_count": null,
      "outputs": []
    },
    {
      "cell_type": "markdown",
      "metadata": {
        "id": "ANsc8n_gCxbs"
      },
      "source": [
        "Геометрические преобразования изображения.\n"
      ]
    },
    {
      "cell_type": "code",
      "metadata": {
        "id": "cH7lKxv4DRhU"
      },
      "source": [
        ""
      ],
      "execution_count": null,
      "outputs": []
    },
    {
      "cell_type": "markdown",
      "metadata": {
        "id": "Z9xTBjeWCxY9"
      },
      "source": [
        "Методы выравнивания гистограммы."
      ]
    },
    {
      "cell_type": "code",
      "metadata": {
        "id": "WLAZudgRDQtw"
      },
      "source": [
        ""
      ],
      "execution_count": null,
      "outputs": []
    },
    {
      "cell_type": "markdown",
      "metadata": {
        "id": "OyUUi_64CxV2"
      },
      "source": [
        " Фильтры Гаусса, Собеля, Прюит, медианный фильтр. Способы \n",
        "создания/устранения шума."
      ]
    },
    {
      "cell_type": "code",
      "metadata": {
        "id": "GtJrGbIvDQGC"
      },
      "source": [
        ""
      ],
      "execution_count": null,
      "outputs": []
    }
  ]
}