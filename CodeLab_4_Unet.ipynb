{
  "cells": [
    {
      "cell_type": "markdown",
      "metadata": {
        "id": "view-in-github",
        "colab_type": "text"
      },
      "source": [
        "<a href=\"https://colab.research.google.com/github/balezz/cv_course_fa_mag/blob/main/CodeLab_4_Unet.ipynb\" target=\"_parent\"><img src=\"https://colab.research.google.com/assets/colab-badge.svg\" alt=\"Open In Colab\"/></a>"
      ]
    },
    {
      "cell_type": "markdown",
      "id": "0f2f83a6",
      "metadata": {
        "id": "0f2f83a6"
      },
      "source": [
        "# Семинар 4. Семантическая сегментация Unet"
      ]
    },
    {
      "cell_type": "markdown",
      "id": "63873429",
      "metadata": {
        "id": "63873429"
      },
      "source": [
        "### В этом задании Вам предстоит:\n",
        "1. Реализовать архитектуру Unet на Keras\n",
        "2. Обучить свою модель на небольшом датасете и сохранить её  \n",
        "\n",
        "Источник: https://www.tensorflow.org/tutorials/images/segmentation"
      ]
    },
    {
      "cell_type": "markdown",
      "id": "353d9a73",
      "metadata": {
        "id": "353d9a73"
      },
      "source": [
        "### Импорт библиотек и загрузка данных"
      ]
    },
    {
      "cell_type": "code",
      "execution_count": null,
      "id": "dcb89ec5",
      "metadata": {
        "scrolled": false,
        "id": "dcb89ec5"
      },
      "outputs": [],
      "source": [
        "import os\n",
        "import re\n",
        "import numpy as np\n",
        "import matplotlib.pyplot as plt\n",
        "import tensorflow as tf\n",
        "from tensorflow.keras import layers"
      ]
    },
    {
      "cell_type": "markdown",
      "id": "8cdcb485",
      "metadata": {
        "id": "8cdcb485"
      },
      "source": [
        "%%bash\n",
        "wget https://storage.yandexcloud.net/fa-bucket/pets.zip\n",
        "unzip pets.zip"
      ]
    },
    {
      "cell_type": "code",
      "execution_count": null,
      "id": "f40043e8",
      "metadata": {
        "id": "f40043e8"
      },
      "outputs": [],
      "source": [
        "DATA_DIR = 'pets/'\n",
        "IMG_LIST = os.listdir(DATA_DIR+'img/')\n",
        "\n",
        "BATCH_SIZE=4"
      ]
    },
    {
      "cell_type": "markdown",
      "id": "387e00e0",
      "metadata": {
        "id": "387e00e0"
      },
      "source": [
        "### Создание датасета из объекта python generator"
      ]
    },
    {
      "cell_type": "code",
      "execution_count": null,
      "id": "bcf6ab7e",
      "metadata": {
        "id": "bcf6ab7e"
      },
      "outputs": [],
      "source": [
        "# https://docs-python.ru/tutorial/generatory-python/\n",
        "def data_gen():\n",
        "    for img_filename in IMG_LIST:\n",
        "        img = tf.keras.utils.load_img(DATA_DIR+f'img/{img_filename}')\n",
        "        index = re.findall(r'\\d+', img_filename)[0]\n",
        "        mask = np.load(DATA_DIR+f'mask/{index}.npy') - 1\n",
        "        yield img, mask"
      ]
    },
    {
      "cell_type": "code",
      "execution_count": null,
      "id": "fdbe5ef2",
      "metadata": {
        "id": "fdbe5ef2"
      },
      "outputs": [],
      "source": [
        "# https://www.tensorflow.org/api_docs/python/tf/data/Dataset#from_generator\n",
        "dataset = tf.data.Dataset.from_generator(\n",
        "    data_gen,\n",
        "    output_signature=(\n",
        "        tf.TensorSpec(shape=(256, 256, 3), dtype=tf.uint8),\n",
        "        tf.TensorSpec(shape=(256, 256, 1), dtype=tf.int8)),\n",
        ").cache().batch(BATCH_SIZE)"
      ]
    },
    {
      "cell_type": "markdown",
      "id": "73f01769",
      "metadata": {
        "id": "73f01769"
      },
      "source": [
        "### Визуализация изображений и масок"
      ]
    },
    {
      "cell_type": "code",
      "execution_count": null,
      "id": "72eb95b8",
      "metadata": {
        "id": "72eb95b8"
      },
      "outputs": [],
      "source": [
        "def display(display_list):\n",
        "  plt.figure(figsize=(15, 15))\n",
        "\n",
        "  title = ['Input Image', 'True Mask', 'Predicted Mask']\n",
        "\n",
        "  for i in range(len(display_list)):\n",
        "    plt.subplot(1, len(display_list), i+1)\n",
        "    plt.title(title[i])\n",
        "    plt.imshow(tf.keras.utils.array_to_img(display_list[i]))\n",
        "    plt.axis('off')\n",
        "  plt.show()"
      ]
    },
    {
      "cell_type": "code",
      "execution_count": null,
      "id": "87ca072d",
      "metadata": {
        "scrolled": true,
        "id": "87ca072d"
      },
      "outputs": [],
      "source": [
        "for images, masks in dataset.take(2):\n",
        "  sample_image, sample_mask = images[0], masks[0]\n",
        "  display([sample_image, sample_mask])"
      ]
    },
    {
      "cell_type": "markdown",
      "id": "f3a18663",
      "metadata": {
        "id": "f3a18663"
      },
      "source": [
        "### Операция Conv2DTranspose (Upconvolution, upsample)\n",
        "https://arxiv.org/pdf/1603.07285v1.pdf"
      ]
    },
    {
      "cell_type": "code",
      "execution_count": null,
      "id": "d326cb13",
      "metadata": {
        "id": "d326cb13"
      },
      "outputs": [],
      "source": [
        "x = np.ones((1,5,5,1))\n",
        "out = layers.Conv2DTranspose(\n",
        "    filters=1,\n",
        "    kernel_size=(3,3),\n",
        "    kernel_initializer='ones')(x)"
      ]
    },
    {
      "cell_type": "code",
      "execution_count": null,
      "id": "02dc4149",
      "metadata": {
        "id": "02dc4149"
      },
      "outputs": [],
      "source": [
        "out.numpy().reshape(7,7)"
      ]
    },
    {
      "cell_type": "markdown",
      "id": "ff33c51f",
      "metadata": {
        "id": "ff33c51f"
      },
      "source": [
        "### Архитектура Unet \n",
        "<img src='https://lmb.informatik.uni-freiburg.de/people/ronneber/u-net/u-net-architecture.png'>"
      ]
    },
    {
      "cell_type": "markdown",
      "id": "7bddc4f2",
      "metadata": {
        "id": "7bddc4f2"
      },
      "source": [
        "С помощью Functional API можно строить более гибкие архитектуры.  \n",
        "Например, несколько слоев можно объединить друг с другом с помощью обычных python - функций. "
      ]
    },
    {
      "cell_type": "code",
      "execution_count": null,
      "id": "72b0d840",
      "metadata": {
        "id": "72b0d840"
      },
      "outputs": [],
      "source": [
        "def double_conv_block(x, n_filters):\n",
        "    # Conv2D then ReLU activation\n",
        "    x = layers.Conv2D(n_filters, \n",
        "                      kernel_size=3, \n",
        "                      padding = \"same\", \n",
        "                      activation = \"relu\", \n",
        "                      kernel_initializer = \"he_normal\")(x)\n",
        "    # Conv2D then ReLU activation\n",
        "    x = layers.Conv2D(n_filters, \n",
        "                      kernel_size=3,\n",
        "                      padding = \"same\",\n",
        "                      activation = \"relu\",\n",
        "                      kernel_initializer = \"he_normal\")(x)\n",
        "    return x\n",
        "\n",
        "def downsample_block(x, n_filters):\n",
        "    f = double_conv_block(x, n_filters)\n",
        "    p = layers.MaxPool2D(2)(f)\n",
        "    return f, p\n",
        "\n",
        "def upsample_block(x, conv_features, n_filters):\n",
        "    # upsample\n",
        "    x = layers.Conv2DTranspose(n_filters, \n",
        "                               kernel_size=3, \n",
        "                               strides=2, padding=\"same\")(x)\n",
        "    # concatenate\n",
        "    x = layers.concatenate([x, conv_features])\n",
        "    # Conv2D twice with ReLU activation\n",
        "    x = double_conv_block(x, n_filters)\n",
        "    return x"
      ]
    },
    {
      "cell_type": "markdown",
      "id": "35deadb3",
      "metadata": {
        "id": "35deadb3"
      },
      "source": [
        "### Задание 1. Реализуйте архитектуру Unet на Keras \n",
        "\n",
        "Не забудьте про нормализацию входных данных!"
      ]
    },
    {
      "cell_type": "code",
      "execution_count": null,
      "id": "9a99b093",
      "metadata": {
        "id": "9a99b093"
      },
      "outputs": [],
      "source": [
        " # inputs\n",
        "inputs = layers.Input(shape=(256,256,3))\n",
        "\n",
        "# encoder: contracting path - downsample\n",
        "# downsample\n",
        "f1, p1 = downsample_block(inputs, 256)\n",
        "\n",
        "# bottleneck\n",
        "bottleneck = double_conv_block(p1, 1024)\n",
        "\n",
        "# decoder: expanding path - upsample\n",
        "#  upsample\n",
        "u1 = upsample_block(bottleneck, f1, 256)\n",
        "\n",
        "# outputs\n",
        "outputs = layers.Conv2D(3, 1, padding=\"same\", activation = \"softmax\")(u1)\n",
        "\n",
        "# unet model with Keras Functional API\n",
        "unet_model = tf.keras.Model(inputs, outputs, name=\"U-Net\")"
      ]
    },
    {
      "cell_type": "code",
      "execution_count": null,
      "id": "cb7f07ad",
      "metadata": {
        "id": "cb7f07ad"
      },
      "outputs": [],
      "source": [
        "unet_model.compile(\n",
        "    optimizer=tf.keras.optimizers.Adam(),\n",
        "    loss=\"sparse_categorical_crossentropy\",\n",
        "    metrics=\"accuracy\")"
      ]
    },
    {
      "cell_type": "markdown",
      "id": "6aeeba25",
      "metadata": {
        "id": "6aeeba25"
      },
      "source": [
        "### Не забываем проверить модель на малой выборке данных "
      ]
    },
    {
      "cell_type": "code",
      "execution_count": null,
      "id": "ef4f1704",
      "metadata": {
        "scrolled": true,
        "id": "ef4f1704"
      },
      "outputs": [],
      "source": [
        "model_history = unet_model.fit(\n",
        "    dataset.take(4).cache(), \n",
        "    epochs=10)"
      ]
    },
    {
      "cell_type": "markdown",
      "id": "df503427",
      "metadata": {
        "id": "df503427"
      },
      "source": [
        "### Вопрос 1. \n",
        "\n",
        "Чему равно матожидание начального значения segmentation loss, при условии что для каждого пикселя CE_loss суммируются?  \n",
        "**Ответ:** "
      ]
    },
    {
      "cell_type": "markdown",
      "id": "d0f12190",
      "metadata": {
        "id": "d0f12190"
      },
      "source": [
        "### Задание 2. Обучите Unet и сохраните модель \n",
        "\n",
        "За использование аугментаций для снижения переобучения будут начислены дополнительные баллы."
      ]
    },
    {
      "cell_type": "code",
      "execution_count": null,
      "id": "3f7e96f1",
      "metadata": {
        "id": "3f7e96f1"
      },
      "outputs": [],
      "source": [
        "TRAIN_STEPS = int(len(IMG_LIST) * 0.8) // BATCH_SIZE\n",
        "TEST_STEPS  = int(len(IMG_LIST) * 0.2) // BATCH_SIZE\n",
        "\n",
        "train_ds = dataset.take(TRAIN_STEPS).cache()\n",
        "test_ds = dataset.skip(TRAIN_STEPS).take(TEST_STEPS).cache().repeat()"
      ]
    },
    {
      "cell_type": "code",
      "execution_count": null,
      "id": "67e8dbb0",
      "metadata": {
        "id": "67e8dbb0"
      },
      "outputs": [],
      "source": [
        "unet_model = tf.keras.Model(inputs, outputs, name=\"U-Net\")\n",
        "unet_model.compile(...)"
      ]
    },
    {
      "cell_type": "code",
      "execution_count": null,
      "id": "27ec1251",
      "metadata": {
        "id": "27ec1251"
      },
      "outputs": [],
      "source": [
        "# todo read the docs\n",
        "model_history = unet_model.fit(\n",
        "    train_ds, \n",
        "    epochs=10,\n",
        "    test_ds)"
      ]
    },
    {
      "cell_type": "code",
      "execution_count": null,
      "id": "21ae35ae",
      "metadata": {
        "id": "21ae35ae"
      },
      "outputs": [],
      "source": [
        "unet_model.save(...)"
      ]
    },
    {
      "cell_type": "code",
      "execution_count": null,
      "id": "c3666128",
      "metadata": {
        "id": "c3666128"
      },
      "outputs": [],
      "source": [
        "loss = model_history.history['loss']\n",
        "val_loss = model_history.history['val_loss']\n",
        "\n",
        "plt.figure()\n",
        "plt.plot(model_history.epoch, loss, 'r', label='Training loss')\n",
        "plt.plot(model_history.epoch, val_loss, 'bo', label='Validation loss')\n",
        "plt.title('Training and Validation Loss')\n",
        "plt.xlabel('Epoch')\n",
        "plt.ylabel('Loss Value')\n",
        "plt.ylim([0, 1])\n",
        "plt.legend()\n",
        "plt.show()"
      ]
    },
    {
      "cell_type": "markdown",
      "id": "fea6657c",
      "metadata": {
        "id": "fea6657c"
      },
      "source": [
        "### Проверим работу модели на выборках train и test"
      ]
    },
    {
      "cell_type": "code",
      "execution_count": null,
      "id": "aa3c4c63",
      "metadata": {
        "id": "aa3c4c63"
      },
      "outputs": [],
      "source": [
        "def create_mask(pred_mask):\n",
        "    pred_mask = tf.math.argmax(pred_mask, axis=-1)\n",
        "    pred_mask = pred_mask[..., tf.newaxis]\n",
        "    return pred_mask[0]\n",
        "\n",
        "def show_predictions(dataset, num=1):\n",
        "    for image, mask in dataset.take(num):\n",
        "        pred_mask = unet_model.predict(image)\n",
        "        display([image[0], mask[0], create_mask(pred_mask)])\n",
        "\n",
        "show_predictions(train_ds)"
      ]
    },
    {
      "cell_type": "code",
      "execution_count": null,
      "id": "20ad1d9c",
      "metadata": {
        "id": "20ad1d9c"
      },
      "outputs": [],
      "source": [
        "show_predictions(test_ds, 3)"
      ]
    }
  ],
  "metadata": {
    "kernelspec": {
      "display_name": "Python 3 (ipykernel)",
      "language": "python",
      "name": "python3"
    },
    "language_info": {
      "codemirror_mode": {
        "name": "ipython",
        "version": 3
      },
      "file_extension": ".py",
      "mimetype": "text/x-python",
      "name": "python",
      "nbconvert_exporter": "python",
      "pygments_lexer": "ipython3",
      "version": "3.8.10"
    },
    "colab": {
      "provenance": [],
      "include_colab_link": true
    }
  },
  "nbformat": 4,
  "nbformat_minor": 5
}